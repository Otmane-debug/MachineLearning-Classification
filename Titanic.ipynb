{
  "nbformat": 4,
  "nbformat_minor": 0,
  "metadata": {
    "colab": {
      "provenance": [],
      "authorship_tag": "ABX9TyPqtqSnvAp3q8AegUUGOTCX",
      "include_colab_link": true
    },
    "kernelspec": {
      "name": "python3",
      "display_name": "Python 3"
    },
    "language_info": {
      "name": "python"
    }
  },
  "cells": [
    {
      "cell_type": "markdown",
      "metadata": {
        "id": "view-in-github",
        "colab_type": "text"
      },
      "source": [
        "<a href=\"https://colab.research.google.com/github/Otmane-debug/MachineLearning-LogisticRegression/blob/master/Titanic.ipynb\" target=\"_parent\"><img src=\"https://colab.research.google.com/assets/colab-badge.svg\" alt=\"Open In Colab\"/></a>"
      ]
    },
    {
      "cell_type": "code",
      "execution_count": 428,
      "metadata": {
        "colab": {
          "base_uri": "https://localhost:8080/"
        },
        "id": "c1dpButWjIdJ",
        "outputId": "39da7bc8-8fc6-4d80-f016-c323cea859a4"
      },
      "outputs": [
        {
          "output_type": "execute_result",
          "data": {
            "text/plain": [
              "Index(['PassengerId', 'HomePlanet', 'CryoSleep', 'Cabin', 'Destination', 'Age',\n",
              "       'VIP', 'RoomService', 'FoodCourt', 'ShoppingMall', 'Spa', 'VRDeck',\n",
              "       'Name', 'Transported'],\n",
              "      dtype='object')"
            ]
          },
          "metadata": {},
          "execution_count": 428
        }
      ],
      "source": [
        "import pandas as pd\n",
        "from sklearn.linear_model import LogisticRegression\n",
        "from sklearn.model_selection import train_test_split\n",
        "from sklearn.metrics import accuracy_score, classification_report\n",
        "from sklearn.preprocessing import LabelEncoder\n",
        "from sklearn.preprocessing import StandardScaler\n",
        "from sklearn.pipeline import make_pipeline\n",
        "import matplotlib.pyplot as plt\n",
        "\n",
        "# Load the data\n",
        "train_data = pd.read_csv(\"./train.csv\")\n",
        "test_data = pd.read_csv(\"./test.csv\")\n",
        "\n",
        "#train_data.info()\n",
        "#train_data.describe()\n",
        "\n",
        "train_data.columns"
      ]
    },
    {
      "cell_type": "code",
      "source": [],
      "metadata": {
        "id": "4DMNk2TufKeE"
      },
      "execution_count": 428,
      "outputs": []
    },
    {
      "cell_type": "code",
      "source": [
        "\n",
        "train = train_data.drop(['PassengerId', 'Cabin', 'Name'], axis=1)\n",
        "test = test_data.drop(['PassengerId', 'Cabin', 'Name'], axis=1)\n"
      ],
      "metadata": {
        "id": "9IZ98UdCjdHn"
      },
      "execution_count": 429,
      "outputs": []
    },
    {
      "cell_type": "code",
      "source": [
        "train.info()\n"
      ],
      "metadata": {
        "id": "6kn1OGtJkkCm",
        "colab": {
          "base_uri": "https://localhost:8080/"
        },
        "outputId": "6261005d-8b82-4ba8-b9de-5e3c5f602605"
      },
      "execution_count": 430,
      "outputs": [
        {
          "output_type": "stream",
          "name": "stdout",
          "text": [
            "<class 'pandas.core.frame.DataFrame'>\n",
            "RangeIndex: 8693 entries, 0 to 8692\n",
            "Data columns (total 11 columns):\n",
            " #   Column        Non-Null Count  Dtype  \n",
            "---  ------        --------------  -----  \n",
            " 0   HomePlanet    8492 non-null   object \n",
            " 1   CryoSleep     8476 non-null   object \n",
            " 2   Destination   8511 non-null   object \n",
            " 3   Age           8514 non-null   float64\n",
            " 4   VIP           8490 non-null   object \n",
            " 5   RoomService   8512 non-null   float64\n",
            " 6   FoodCourt     8510 non-null   float64\n",
            " 7   ShoppingMall  8485 non-null   float64\n",
            " 8   Spa           8510 non-null   float64\n",
            " 9   VRDeck        8505 non-null   float64\n",
            " 10  Transported   8693 non-null   bool   \n",
            "dtypes: bool(1), float64(6), object(4)\n",
            "memory usage: 687.8+ KB\n"
          ]
        }
      ]
    },
    {
      "cell_type": "code",
      "source": [
        "print(\"Train data Null sum :\")\n",
        "train.select_dtypes(exclude=['object']).isnull().sum()\n",
        "\n",
        "\n"
      ],
      "metadata": {
        "id": "ildVeOjCkFPY",
        "colab": {
          "base_uri": "https://localhost:8080/"
        },
        "outputId": "1023ba72-0524-4eae-c36b-e4a10afd05e8"
      },
      "execution_count": 431,
      "outputs": [
        {
          "output_type": "stream",
          "name": "stdout",
          "text": [
            "Train data Null sum :\n"
          ]
        },
        {
          "output_type": "execute_result",
          "data": {
            "text/plain": [
              "Age             179\n",
              "RoomService     181\n",
              "FoodCourt       183\n",
              "ShoppingMall    208\n",
              "Spa             183\n",
              "VRDeck          188\n",
              "Transported       0\n",
              "dtype: int64"
            ]
          },
          "metadata": {},
          "execution_count": 431
        }
      ]
    },
    {
      "cell_type": "code",
      "source": [
        "print(\"Test data Null num\")\n",
        "test.select_dtypes(exclude=['object']).isnull().sum()"
      ],
      "metadata": {
        "id": "OZ_VoWbykOW2",
        "colab": {
          "base_uri": "https://localhost:8080/"
        },
        "outputId": "40b2d1d5-1ab4-4452-fd0a-f5ec0d6e3dfd"
      },
      "execution_count": 432,
      "outputs": [
        {
          "output_type": "stream",
          "name": "stdout",
          "text": [
            "Test data Null num\n"
          ]
        },
        {
          "output_type": "execute_result",
          "data": {
            "text/plain": [
              "Age              91\n",
              "RoomService      82\n",
              "FoodCourt       106\n",
              "ShoppingMall     98\n",
              "Spa             101\n",
              "VRDeck           80\n",
              "dtype: int64"
            ]
          },
          "metadata": {},
          "execution_count": 432
        }
      ]
    },
    {
      "cell_type": "code",
      "source": [
        "nd= train.select_dtypes(exclude=['object']).drop('Transported', axis=1)"
      ],
      "metadata": {
        "id": "PfLeAmDVkeg-"
      },
      "execution_count": 433,
      "outputs": []
    },
    {
      "cell_type": "code",
      "source": [
        "for i in nd.columns:\n",
        "  plt.hist(train[i])\n",
        "  plt.title(i)\n",
        "  plt.show()"
      ],
      "metadata": {
        "id": "IDhwE43ZmdhE",
        "colab": {
          "base_uri": "https://localhost:8080/",
          "height": 1000
        },
        "outputId": "394ceb6d-d140-4c84-9a55-d1aff9587cd4"
      },
      "execution_count": 434,
      "outputs": [
        {
          "output_type": "display_data",
          "data": {
            "text/plain": [
              "<Figure size 640x480 with 1 Axes>"
            ],
            "image/png": "[encoded data removed]"
          },
          "metadata": {}
        },
        {
          "output_type": "display_data",
          "data": {
            "text/plain": [
              "<Figure size 640x480 with 1 Axes>"
            ],
            "image/png": "[encoded data removed]"
          },
          "metadata": {}
        },
        {
          "output_type": "display_data",
          "data": {
            "text/plain": [
              "<Figure size 640x480 with 1 Axes>"
            ],
            "image/png": "[encoded data removed]"
          },
          "metadata": {}
        },
        {
          "output_type": "display_data",
          "data": {
            "text/plain": [
              "<Figure size 640x480 with 1 Axes>"
            ],
            "image/png": "[encoded data removed]"
          },
          "metadata": {}
        },
        {
          "output_type": "display_data",
          "data": {
            "text/plain": [
              "<Figure size 640x480 with 1 Axes>"
            ],
            "image/png": "[encoded data removed]"
          },
          "metadata": {}
        },
        {
          "output_type": "display_data",
          "data": {
            "text/plain": [
              "<Figure size 640x480 with 1 Axes>"
            ],
            "image/png": "[encoded data removed]"
          },
          "metadata": {}
        }
      ]
    },
    {
      "cell_type": "code",
      "source": [
        "train_columns = train.columns.to_list()\n",
        "test_columns = test.columns.to_list()\n",
        "\n",
        "\n",
        "\n",
        "print(train_columns)\n",
        "print(test_columns)"
      ],
      "metadata": {
        "colab": {
          "base_uri": "https://localhost:8080/"
        },
        "id": "Utku7Rb0fMK-",
        "outputId": "4781362f-367d-4232-b07c-4ae779a3d015"
      },
      "execution_count": 435,
      "outputs": [
        {
          "output_type": "stream",
          "name": "stdout",
          "text": [
            "['HomePlanet', 'CryoSleep', 'Destination', 'Age', 'VIP', 'RoomService', 'FoodCourt', 'ShoppingMall', 'Spa', 'VRDeck', 'Transported']\n",
            "['HomePlanet', 'CryoSleep', 'Destination', 'Age', 'VIP', 'RoomService', 'FoodCourt', 'ShoppingMall', 'Spa', 'VRDeck']\n"
          ]
        }
      ]
    },
    {
      "cell_type": "code",
      "source": [
        "print(train.columns.to_list())"
      ],
      "metadata": {
        "colab": {
          "base_uri": "https://localhost:8080/"
        },
        "id": "ZRyA6xylkJDY",
        "outputId": "af797d12-30c3-4351-e0df-88b9dbb6c145"
      },
      "execution_count": 436,
      "outputs": [
        {
          "output_type": "stream",
          "name": "stdout",
          "text": [
            "['HomePlanet', 'CryoSleep', 'Destination', 'Age', 'VIP', 'RoomService', 'FoodCourt', 'ShoppingMall', 'Spa', 'VRDeck', 'Transported']\n"
          ]
        }
      ]
    },
    {
      "cell_type": "code",
      "source": [
        "from pandas.core.arrays.numeric import T\n",
        "import pandas as pd\n",
        "from sklearn.impute import SimpleImputer\n",
        "from sklearn.preprocessing import OrdinalEncoder\n",
        "\n",
        "\n",
        "cols = ['HomePlanet', 'CryoSleep', 'Destination', 'VIP', 'Transported']\n",
        "Cols = ['HomePlanet', 'CryoSleep', 'Destination', 'VIP']\n",
        "\n",
        "\n",
        "cat_train = train[cols]\n",
        "cat_test = test[Cols]\n",
        "\n",
        "train = train.drop(cols, axis=1)\n",
        "test = test.drop(Cols, axis=1)\n",
        "\n",
        "train_columns = train.columns.to_list()\n",
        "\n",
        "test_columns = test.columns.to_list()\n",
        "\n",
        "train_columns = train_columns + cols\n",
        "test_columns = test_columns + Cols\n",
        "\n",
        "ordinal_encoder = OrdinalEncoder()\n",
        "cat_train = ordinal_encoder.fit_transform(cat_train)\n",
        "cat_test = ordinal_encoder.fit_transform(cat_test)\n",
        "\n",
        "# Convert the NumPy arrays to DataFrames\n",
        "cat_train_df = pd.DataFrame(cat_train)\n",
        "cat_test_df = pd.DataFrame(cat_test)\n",
        "\n",
        "# Concatenate the DataFrames\n",
        "train = pd.concat([train, cat_train_df], axis=1)\n",
        "test = pd.concat([test, cat_test_df], axis=1)"
      ],
      "metadata": {
        "id": "YiAUzVZvPpAN"
      },
      "execution_count": 437,
      "outputs": []
    },
    {
      "cell_type": "code",
      "source": [
        "train.columns = train_columns\n",
        "test.columns = test_columns\n"
      ],
      "metadata": {
        "id": "a8iaVE6iqlLQ"
      },
      "execution_count": 438,
      "outputs": []
    },
    {
      "cell_type": "code",
      "source": [
        "# Imputation\n",
        "my_imputer = SimpleImputer()\n",
        "train = pd.DataFrame(my_imputer.fit_transform(train))\n",
        "test = pd.DataFrame(my_imputer.fit_transform(test))"
      ],
      "metadata": {
        "id": "VFwhLrRhwdRU"
      },
      "execution_count": 439,
      "outputs": []
    },
    {
      "cell_type": "code",
      "source": [
        "train.columns = train_columns\n",
        "test.columns = test_columns"
      ],
      "metadata": {
        "id": "28ZSh8EIxWGl"
      },
      "execution_count": 440,
      "outputs": []
    },
    {
      "cell_type": "code",
      "source": [
        "print(train.info())\n",
        "print(test.info())"
      ],
      "metadata": {
        "colab": {
          "base_uri": "https://localhost:8080/"
        },
        "id": "ji9B8ptEuX7c",
        "outputId": "80e35cc8-1eee-4053-cdc7-3101b5aadf45"
      },
      "execution_count": 441,
      "outputs": [
        {
          "output_type": "stream",
          "name": "stdout",
          "text": [
            "<class 'pandas.core.frame.DataFrame'>\n",
            "RangeIndex: 8693 entries, 0 to 8692\n",
            "Data columns (total 11 columns):\n",
            " #   Column        Non-Null Count  Dtype  \n",
            "---  ------        --------------  -----  \n",
            " 0   Age           8693 non-null   float64\n",
            " 1   RoomService   8693 non-null   float64\n",
            " 2   FoodCourt     8693 non-null   float64\n",
            " 3   ShoppingMall  8693 non-null   float64\n",
            " 4   Spa           8693 non-null   float64\n",
            " 5   VRDeck        8693 non-null   float64\n",
            " 6   HomePlanet    8693 non-null   float64\n",
            " 7   CryoSleep     8693 non-null   float64\n",
            " 8   Destination   8693 non-null   float64\n",
            " 9   VIP           8693 non-null   float64\n",
            " 10  Transported   8693 non-null   float64\n",
            "dtypes: float64(11)\n",
            "memory usage: 747.2 KB\n",
            "None\n",
            "<class 'pandas.core.frame.DataFrame'>\n",
            "RangeIndex: 4277 entries, 0 to 4276\n",
            "Data columns (total 10 columns):\n",
            " #   Column        Non-Null Count  Dtype  \n",
            "---  ------        --------------  -----  \n",
            " 0   Age           4277 non-null   float64\n",
            " 1   RoomService   4277 non-null   float64\n",
            " 2   FoodCourt     4277 non-null   float64\n",
            " 3   ShoppingMall  4277 non-null   float64\n",
            " 4   Spa           4277 non-null   float64\n",
            " 5   VRDeck        4277 non-null   float64\n",
            " 6   HomePlanet    4277 non-null   float64\n",
            " 7   CryoSleep     4277 non-null   float64\n",
            " 8   Destination   4277 non-null   float64\n",
            " 9   VIP           4277 non-null   float64\n",
            "dtypes: float64(10)\n",
            "memory usage: 334.3 KB\n",
            "None\n"
          ]
        }
      ]
    },
    {
      "cell_type": "markdown",
      "source": [],
      "metadata": {
        "id": "RbfJ_5LQPox3"
      }
    },
    {
      "cell_type": "code",
      "source": [
        "print(\"Train data Null sum :\")\n",
        "print(train.isnull().sum())\n",
        "print(\"\")"
      ],
      "metadata": {
        "id": "wcmgR2spSCnS",
        "colab": {
          "base_uri": "https://localhost:8080/"
        },
        "outputId": "5a6e9106-8c2a-4698-e94e-8f3670107d98"
      },
      "execution_count": 442,
      "outputs": [
        {
          "output_type": "stream",
          "name": "stdout",
          "text": [
            "Train data Null sum :\n",
            "Age             0\n",
            "RoomService     0\n",
            "FoodCourt       0\n",
            "ShoppingMall    0\n",
            "Spa             0\n",
            "VRDeck          0\n",
            "HomePlanet      0\n",
            "CryoSleep       0\n",
            "Destination     0\n",
            "VIP             0\n",
            "Transported     0\n",
            "dtype: int64\n",
            "\n"
          ]
        }
      ]
    },
    {
      "cell_type": "code",
      "source": [
        "print(\"Test data Null num\")\n",
        "print(test.isnull().sum())"
      ],
      "metadata": {
        "id": "rIj0cZC8SG3_",
        "colab": {
          "base_uri": "https://localhost:8080/"
        },
        "outputId": "fb7fb3ec-17c3-4849-b771-3e62b4985eef"
      },
      "execution_count": 443,
      "outputs": [
        {
          "output_type": "stream",
          "name": "stdout",
          "text": [
            "Test data Null num\n",
            "Age             0\n",
            "RoomService     0\n",
            "FoodCourt       0\n",
            "ShoppingMall    0\n",
            "Spa             0\n",
            "VRDeck          0\n",
            "HomePlanet      0\n",
            "CryoSleep       0\n",
            "Destination     0\n",
            "VIP             0\n",
            "dtype: int64\n"
          ]
        }
      ]
    },
    {
      "cell_type": "code",
      "source": [
        "X = train.drop('Transported', axis=1)\n",
        "y = train['Transported']\n"
      ],
      "metadata": {
        "id": "ofv6ax4cSMQ8"
      },
      "execution_count": 444,
      "outputs": []
    },
    {
      "cell_type": "code",
      "source": [
        "from sklearn.model_selection import cross_val_score\n",
        "from sklearn.naive_bayes import GaussianNB\n",
        "from sklearn.linear_model import LogisticRegression\n",
        "from sklearn import tree\n",
        "from sklearn.neighbors import KNeighborsClassifier\n",
        "from sklearn.ensemble import RandomForestClassifier\n",
        "from sklearn.svm import SVC\n",
        "from xgboost import XGBClassifier"
      ],
      "metadata": {
        "id": "ozpix82PU6BU"
      },
      "execution_count": 445,
      "outputs": []
    },
    {
      "cell_type": "code",
      "source": [
        "models = [\n",
        "    GaussianNB(),\n",
        "    LogisticRegression(max_iter=2000),\n",
        "    tree.DecisionTreeClassifier(random_state = 1),\n",
        "    KNeighborsClassifier(),\n",
        "    RandomForestClassifier(random_state = 1),\n",
        "    SVC(probability = True),\n",
        "    XGBClassifier(random_state =1)\n",
        "]"
      ],
      "metadata": {
        "id": "wU5SbkaGIWl9"
      },
      "execution_count": 446,
      "outputs": []
    },
    {
      "cell_type": "code",
      "source": [
        "\n",
        "\n",
        "best_score = 0\n",
        "model_used = 0\n",
        "\n",
        "predictions_val = 0\n",
        "cols = ['HomePlanet', 'CryoSleep', 'Destination', 'VIP', 'Transported']\n",
        "\n",
        "for model in models:\n",
        "\n",
        "  X_train, X_val, y_train, y_val = train_test_split(X, y, test_size=0.2, random_state=1)\n",
        "\n",
        "  # Créer un pipeline\n",
        "  pipe = make_pipeline(\n",
        "      model\n",
        "  )\n",
        "  pipe.fit(X_train, y_train)  # apply scaling on training data\n",
        "\n",
        "  pipe.score(X_val, y_val)  # apply scaling on testing data, without leaking training data.\n",
        "\n",
        "  # Make predictions on the validation set\n",
        "  predictions_val = pipe.predict(X_val)\n",
        "\n",
        "  # Calculate accuracy on the validation set\n",
        "  accuracy = accuracy_score(y_val, predictions_val)\n",
        "  #print(\"Accuracy on validation data:\", accuracy)\n",
        "\n",
        "  print(accuracy)\n",
        "\n",
        "  if accuracy > best_score:\n",
        "    best_score = accuracy\n",
        "    model_used = model.__class__.__name__\n",
        "\n",
        "print(\"model used : \" + str(model_used))\n",
        "print(\"best validation score = \" +str(best_score))"
      ],
      "metadata": {
        "colab": {
          "base_uri": "https://localhost:8080/"
        },
        "id": "S-svNJDBI8xx",
        "outputId": "969b2b09-3ba5-4e59-8f32-df12ba040913"
      },
      "execution_count": 447,
      "outputs": [
        {
          "output_type": "stream",
          "name": "stdout",
          "text": [
            "0.7090281771132835\n",
            "0.7929844738355377\n",
            "0.7297297297297297\n",
            "0.7826336975273146\n",
            "0.7860839562967222\n",
            "0.7993099482461185\n",
            "0.7918343875790684\n",
            "model used : SVC\n",
            "best validation score = 0.7993099482461185\n"
          ]
        }
      ]
    },
    {
      "cell_type": "code",
      "source": [
        "  X_train, X_val, y_train, y_val = train_test_split(X, y, test_size=0.2, random_state=1)\n",
        "\n",
        "  # Créer un pipeline\n",
        "  pipe = make_pipeline(\n",
        "      SVC(probability = True)\n",
        "  )\n",
        "  pipe.fit(X_train, y_train)  # apply scaling on training data\n",
        "\n",
        "  pipe.score(X_val, y_val)  # apply scaling on testing data, without leaking training data.\n",
        "\n",
        "  # Make predictions on the validation set\n",
        "  predictions_val = pipe.predict(X_val)\n",
        "\n",
        "  # Calculate accuracy on the validation set\n",
        "  accuracy = accuracy_score(y_val, predictions_val)\n",
        "  #print(\"Accuracy on validation data:\", accuracy)"
      ],
      "metadata": {
        "id": "pOJbe36q1HTH"
      },
      "execution_count": 448,
      "outputs": []
    },
    {
      "cell_type": "code",
      "source": [
        "class_report = classification_report(y_val, predictions_val)\n",
        "print(\"Classification Report on validation data:\\n\", class_report)"
      ],
      "metadata": {
        "id": "2UjQXYXvSa_-",
        "colab": {
          "base_uri": "https://localhost:8080/"
        },
        "outputId": "23f1c1a8-659d-438f-a57f-829ac9938376"
      },
      "execution_count": 449,
      "outputs": [
        {
          "output_type": "stream",
          "name": "stdout",
          "text": [
            "Classification Report on validation data:\n",
            "               precision    recall  f1-score   support\n",
            "\n",
            "         0.0       0.84      0.72      0.78       843\n",
            "         1.0       0.77      0.88      0.82       896\n",
            "\n",
            "    accuracy                           0.80      1739\n",
            "   macro avg       0.81      0.80      0.80      1739\n",
            "weighted avg       0.80      0.80      0.80      1739\n",
            "\n"
          ]
        }
      ]
    },
    {
      "cell_type": "code",
      "source": [
        "# Predict on the test data\n",
        "predictions_test = pipe.predict(test)"
      ],
      "metadata": {
        "id": "C9VXLv8dShVL"
      },
      "execution_count": 450,
      "outputs": []
    },
    {
      "cell_type": "code",
      "source": [
        "predictions_test = [True if pred == 1 else False for pred in predictions_test]\n",
        "\n",
        "passenger_predictions = pd.DataFrame({'PassengerId': test_data['PassengerId'], 'Transported': predictions_test})\n"
      ],
      "metadata": {
        "id": "vA1sU2aUSsEI"
      },
      "execution_count": 451,
      "outputs": []
    },
    {
      "cell_type": "code",
      "source": [
        "# Save passenger_predictions to a CSV file\n",
        "passenger_predictions.to_csv('./submission.csv', index=False)"
      ],
      "metadata": {
        "id": "4tXcWXBlSvIv"
      },
      "execution_count": 452,
      "outputs": []
    }
  ]
}